{
 "cells": [
  {
   "cell_type": "code",
   "execution_count": 4,
   "id": "2e4d98c1",
   "metadata": {},
   "outputs": [],
   "source": [
    "import tensorflow as tf\n",
    "from tensorflow.keras.preprocessing.image import ImageDataGenerator\n",
    "from sklearn.model_selection import train_test_split\n",
    "from utils import load_galaxy_data\n",
    "from visualize import visualize_activations\n"
   ]
  },
  {
   "cell_type": "code",
   "execution_count": 5,
   "id": "d9dd3a3b",
   "metadata": {},
   "outputs": [
    {
     "name": "stdout",
     "output_type": "stream",
     "text": [
      "Successfully loaded galaxy data!\n",
      "(1400, 128, 128, 3)\n",
      "(1400, 4)\n"
     ]
    }
   ],
   "source": [
    "input_data, labels = load_galaxy_data()\n",
    "print(input_data.shape)\n",
    "print(labels.shape)"
   ]
  },
  {
   "cell_type": "code",
   "execution_count": 6,
   "id": "e693815d",
   "metadata": {},
   "outputs": [],
   "source": [
    "x_train, x_test,y_train, y_test = train_test_split(input_data, labels, random_state = 222, train_size = 0.8, stratify = labels, shuffle = True)\n",
    "\n",
    "training_data = ImageDataGenerator(rescale = 1.0/255)\n",
    "training_iterator = training_data.flow(x_train,y_train, batch_size = 5)\n",
    "testing_iterator = training_data.flow(x_test, y_test, batch_size =5)"
   ]
  },
  {
   "cell_type": "code",
   "execution_count": 7,
   "id": "7472e58a",
   "metadata": {},
   "outputs": [
    {
     "name": "stdout",
     "output_type": "stream",
     "text": [
      "Model: \"sequential_1\"\n",
      "_________________________________________________________________\n",
      " Layer (type)                Output Shape              Param #   \n",
      "=================================================================\n",
      " conv2d_2 (Conv2D)           (None, 63, 63, 8)         224       \n",
      "                                                                 \n",
      " max_pooling2d_2 (MaxPooling  (None, 31, 31, 8)        0         \n",
      " 2D)                                                             \n",
      "                                                                 \n",
      " conv2d_3 (Conv2D)           (None, 15, 15, 8)         584       \n",
      "                                                                 \n",
      " max_pooling2d_3 (MaxPooling  (None, 7, 7, 8)          0         \n",
      " 2D)                                                             \n",
      "                                                                 \n",
      " flatten_1 (Flatten)         (None, 392)               0         \n",
      "                                                                 \n",
      " dense_2 (Dense)             (None, 16)                6288      \n",
      "                                                                 \n",
      " dense_3 (Dense)             (None, 4)                 68        \n",
      "                                                                 \n",
      "=================================================================\n",
      "Total params: 7,164\n",
      "Trainable params: 7,164\n",
      "Non-trainable params: 0\n",
      "_________________________________________________________________\n"
     ]
    }
   ],
   "source": [
    "model = tf.keras.Sequential()\n",
    "model.add(tf.keras.Input(shape = (x_train.shape[1:])))\n",
    "model.add(tf.keras.layers.Conv2D(8,3, strides = 2, activation = \"relu\"))\n",
    "model.add(tf.keras.layers.MaxPool2D(pool_size =(2,2), strides = 2))\n",
    "model.add(tf.keras.layers.Conv2D(8,3, strides = 2, activation = \"relu\"))\n",
    "model.add(tf.keras.layers.MaxPool2D(pool_size = (2,2), strides = 2))\n",
    "model.add(tf.keras.layers.Flatten())\n",
    "model.add(tf.keras.layers.Dense(16,activation=\"relu\"))\n",
    "model.add(tf.keras.layers.Dense(4, activation = \"softmax\"))\n",
    "model.compile(optimizer =tf.keras.optimizers.Adam(learning_rate = 0.001), loss =tf.keras.losses.CategoricalCrossentropy(), metrics = [tf.keras.metrics.CategoricalAccuracy()])\n",
    "model.summary()"
   ]
  },
  {
   "cell_type": "code",
   "execution_count": 8,
   "id": "f8875de9",
   "metadata": {},
   "outputs": [
    {
     "name": "stdout",
     "output_type": "stream",
     "text": [
      "Epoch 1/8\n",
      "224/224 [==============================] - 4s 13ms/step - loss: 1.3287 - categorical_accuracy: 0.3098 - val_loss: 1.1395 - val_categorical_accuracy: 0.4107\n",
      "Epoch 2/8\n",
      "224/224 [==============================] - 3s 12ms/step - loss: 1.2096 - categorical_accuracy: 0.4339 - val_loss: 1.0863 - val_categorical_accuracy: 0.4857\n",
      "Epoch 3/8\n",
      "224/224 [==============================] - 3s 13ms/step - loss: 1.1538 - categorical_accuracy: 0.5205 - val_loss: 1.0557 - val_categorical_accuracy: 0.5571\n",
      "Epoch 4/8\n",
      "224/224 [==============================] - 3s 12ms/step - loss: 1.1131 - categorical_accuracy: 0.5375 - val_loss: 1.0475 - val_categorical_accuracy: 0.5786\n",
      "Epoch 5/8\n",
      "224/224 [==============================] - 3s 13ms/step - loss: 1.0661 - categorical_accuracy: 0.5714 - val_loss: 0.9912 - val_categorical_accuracy: 0.5750\n",
      "Epoch 6/8\n",
      "224/224 [==============================] - 3s 12ms/step - loss: 1.0277 - categorical_accuracy: 0.5946 - val_loss: 0.9716 - val_categorical_accuracy: 0.6143\n",
      "Epoch 7/8\n",
      "224/224 [==============================] - 3s 13ms/step - loss: 0.9944 - categorical_accuracy: 0.5973 - val_loss: 0.9375 - val_categorical_accuracy: 0.6286\n",
      "Epoch 8/8\n",
      "224/224 [==============================] - 3s 13ms/step - loss: 0.9536 - categorical_accuracy: 0.6143 - val_loss: 0.9027 - val_categorical_accuracy: 0.6679\n"
     ]
    },
    {
     "data": {
      "text/plain": [
       "<keras.callbacks.History at 0x16ebbc69f40>"
      ]
     },
     "execution_count": 8,
     "metadata": {},
     "output_type": "execute_result"
    }
   ],
   "source": [
    "model.fit(training_iterator, steps_per_epoch =len(x_train)/5 ,epochs = 8, validation_data =testing_iterator, validation_steps =len(x_test)/5)"
   ]
  },
  {
   "cell_type": "code",
   "execution_count": 10,
   "id": "2d4b380b",
   "metadata": {},
   "outputs": [],
   "source": [
    "# visualize_activations(model,testing_iterator)"
   ]
  },
  {
   "cell_type": "code",
   "execution_count": null,
   "id": "7714ed36",
   "metadata": {},
   "outputs": [],
   "source": []
  }
 ],
 "metadata": {
  "kernelspec": {
   "display_name": "Python 3 (ipykernel)",
   "language": "python",
   "name": "python3"
  },
  "language_info": {
   "codemirror_mode": {
    "name": "ipython",
    "version": 3
   },
   "file_extension": ".py",
   "mimetype": "text/x-python",
   "name": "python",
   "nbconvert_exporter": "python",
   "pygments_lexer": "ipython3",
   "version": "3.9.7"
  }
 },
 "nbformat": 4,
 "nbformat_minor": 5
}
